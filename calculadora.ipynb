{
  "nbformat": 4,
  "nbformat_minor": 0,
  "metadata": {
    "colab": {
      "provenance": [],
      "toc_visible": true
    },
    "kernelspec": {
      "name": "python3",
      "display_name": "Python 3"
    },
    "language_info": {
      "name": "python"
    }
  },
  "cells": [
    {
      "cell_type": "code",
      "source": [
        "nome = input('Qual o seu nome?')\n",
        "print('Olá, bem vindo a calculadora,', nome)\n",
        "\n",
        "print('[1]Para somar')\n",
        "print('[2]Para subtrair')\n",
        "print('[3]Para multiplicar')\n",
        "print('[4]Para dividir')\n",
        "\n",
        "op = int(input('Qual a operação desejada?'))\n",
        "\n",
        "if op == 1:\n",
        "    n1 = int(input('Digite o primeiro número:'))\n",
        "    n2 = int(input('Digite o segundo número:'))\n",
        "    soma = n1 + n2\n",
        "    print(n1, 'mais', n2, 'é igual a', soma)\n",
        "\n",
        "elif op == 2:\n",
        "    n1 = int(input('Digite o primeiro número:'))\n",
        "    n2 = int(input('Digite o segundo número:'))\n",
        "    sub = n1 - n2\n",
        "    print(n1, 'menos', n2, 'é igual a', sub)\n",
        "\n",
        "elif op == 3:\n",
        "    n1 = int(input('Digite o primeiro número:'))\n",
        "    n2 = int(input('Digite o segundo número:'))\n",
        "    mult = n1 * n2\n",
        "    print(n1, 'vezes', n2, 'é igual a', sub)\n",
        "\n",
        "elif op == 4:\n",
        "    n1 = int(input('Digite o primeiro número:'))\n",
        "    n2 = int(input('Digite o segundo número:'))\n",
        "    div = n1 / n2\n",
        "    print(n1, 'dividido', n2, 'é igual a', div)\n",
        "\n",
        "else:\n",
        "    print('Opção inválida');\n",
        "\n",
        "print('Obrigado por utilizar a calculadora,', nome)"
      ],
      "metadata": {
        "colab": {
          "base_uri": "https://localhost:8080/"
        },
        "id": "mZTW1CYo50bR",
        "outputId": "7399ce7f-a7e9-4aea-bddd-218bba11cc45"
      },
      "execution_count": null,
      "outputs": [
        {
          "output_type": "stream",
          "name": "stdout",
          "text": [
            "Qual o seu nome?Joice\n",
            "Olá, bem vindo a calculadora, Joice\n",
            "[1]Para somar\n",
            "[2]Para subtrair\n",
            "[3]Para multiplicar\n",
            "[4]Para dividir\n",
            "Qual a operação desejada?4\n",
            "Digite o primeiro número:25\n",
            "Digite o segundo número:50\n",
            "25 dividido 50 é igual a 0.5\n",
            "Obrigado por utilizar a calculadora, Joice\n"
          ]
        }
      ]
    }
  ]
}