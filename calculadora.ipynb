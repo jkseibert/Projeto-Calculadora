{
  "cells": [
    {
      "cell_type": "code",
      "execution_count": null,
      "metadata": {
        "colab": {
          "base_uri": "https://localhost:8080/"
        },
        "id": "mZTW1CYo50bR",
        "outputId": "7399ce7f-a7e9-4aea-bddd-218bba11cc45"
      },
      "outputs": [
        {
          "ename": "",
          "evalue": "",
          "output_type": "error",
          "traceback": [
            "\u001b[1;31mRunning cells with 'Python 3.12.4' requires the ipykernel package.\n",
            "\u001b[1;31mRun the following command to install 'ipykernel' into the Python environment. \n",
            "\u001b[1;31mCommand: 'c:/Users/joice/AppData/Local/Programs/Python/Python312/python.exe -m pip install ipykernel -U --user --force-reinstall'"
          ]
        }
      ],
      "source": [
        "nome = input('Qual o seu nome?')\n",
        "print('Olá, bem vindo a calculadora,', nome)\n",
        "\n",
        "print('[1]Para somar')\n",
        "print('[2]Para subtrair')\n",
        "print('[3]Para multiplicar')\n",
        "print('[4]Para dividir')\n",
        "\n",
        "op = int(input('Qual a operação desejada?'))\n",
        "\n",
        "if op == 1:\n",
        "    n1 = int(input('Digite o primeiro número:'))\n",
        "    n2 = int(input('Digite o segundo número:'))\n",
        "    soma = n1 + n2\n",
        "    print(n1, 'mais', n2, 'é igual a', soma)\n",
        "\n",
        "elif op == 2:\n",
        "    n1 = int(input('Digite o primeiro número:'))\n",
        "    n2 = int(input('Digite o segundo número:'))\n",
        "    sub = n1 - n2\n",
        "    print(n1, 'menos', n2, 'é igual a', sub)\n",
        "\n",
        "elif op == 3:\n",
        "    n1 = int(input('Digite o primeiro número:'))\n",
        "    n2 = int(input('Digite o segundo número:'))\n",
        "    mult = n1 * n2\n",
        "    print(n1, 'vezes', n2, 'é igual a', sub)\n",
        "\n",
        "elif op == 4:\n",
        "    n1 = int(input('Digite o primeiro número:'))\n",
        "    n2 = int(input('Digite o segundo número:'))\n",
        "    div = n1 / n2\n",
        "    print(n1, 'dividido', n2, 'é igual a', div)\n",
        "\n",
        "else:\n",
        "    print('Opção inválida');\n",
        "\n",
        "print('Obrigado por utilizar a calculadora,', nome)"
      ]
    }
  ],
  "metadata": {
    "colab": {
      "provenance": [],
      "toc_visible": true
    },
    "kernelspec": {
      "display_name": "Python 3",
      "name": "python3"
    },
    "language_info": {
      "name": "python",
      "version": "3.12.4"
    }
  },
  "nbformat": 4,
  "nbformat_minor": 0
}
